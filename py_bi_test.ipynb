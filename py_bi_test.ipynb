{
 "cells": [
  {
   "cell_type": "code",
   "execution_count": null,
   "metadata": {},
   "outputs": [
    {
     "name": "stderr",
     "output_type": "stream",
     "text": [
      "Unclosed client session\n",
      "client_session: <aiohttp.client.ClientSession object at 0x0000021C87123ED0>\n"
     ]
    }
   ],
   "source": [
    "from binance_bot_class  import BinanceBot\n",
    "from pprint import pprint\n",
    "from binance.async_client import AsyncClient\n",
    "from dotenv import load_dotenv\n",
    "import numpy\n",
    "import pandas as pd\n",
    "import pandas_ta as ta\n",
    "import os\n",
    "\n",
    "load_dotenv()\n",
    "API_KEY = os.getenv(\"BINANCE_API_KEY\")\n",
    "API_SECRET = os.getenv(\"BINANCE_API_SECRET\")\n",
    "\n",
    "bot = BinanceBot()\n",
    "await bot.initialize_client()\n",
    "\n",
    "client = await AsyncClient.create(API_KEY, API_SECRET)\n"
   ]
  },
  {
   "cell_type": "code",
   "execution_count": null,
   "metadata": {},
   "outputs": [],
   "source": [
    "# 티커정보 가져오기\n",
    "try:\n",
    "    client = await AsyncClient.create(API_KEY, API_SECRET)\n",
    "    balance = await client.get_asset_balance(asset='USDT')\n",
    "    pprint(balance)\n",
    "finally:\n",
    "    await client.close_connection()"
   ]
  },
  {
   "cell_type": "code",
   "execution_count": 10,
   "metadata": {},
   "outputs": [],
   "source": [
    "try:\n",
    "    # 모든 포지션 정보 가져오기\n",
    "    positions = await client.futures_position_information()\n",
    "    \n",
    "    # 보유 포지션만 필터링\n",
    "    active_positions = [p for p in positions if float(p['positionAmt']) != 0]\n",
    "    \n",
    "    # 출력\n",
    "    for pos in active_positions:\n",
    "        print(f\"Symbol: {pos['symbol']}\")\n",
    "        print(f\"Position Amount: {pos['positionAmt']}\")  # 포지션 크기\n",
    "        print(f\"Entry Price: {pos['entryPrice']}\")       # 진입 가격\n",
    "        print(f\"Unrealized Profit: {pos['unRealizedProfit']}\")  # 미실현 손익\n",
    "        print(f\"Margin Type: {pos['marginType']}\")       # 마진 타입 (Isolated/ Cross)\n",
    "        print(f\"Leverage: {pos['leverage']}\")           # 레버리지\n",
    "        print(\"-\" * 30)\n",
    "\n",
    "except Exception as e:\n",
    "    print(f\"Error fetching positions: {e}\")\n",
    "finally:\n",
    "    await client.close_connection()"
   ]
  },
  {
   "cell_type": "code",
   "execution_count": null,
   "metadata": {},
   "outputs": [],
   "source": [
    "positions = await client.futures_position_information()\n",
    "print(positions)"
   ]
  },
  {
   "cell_type": "code",
   "execution_count": null,
   "metadata": {},
   "outputs": [],
   "source": [
    "# 티커정보 가져오기\n",
    "try:\n",
    "    info = await bot.ticker_info(symbol=\"CRVUSDT\")\n",
    "    pprint(info)\n",
    "finally:\n",
    "    await bot.close()"
   ]
  },
  {
   "cell_type": "code",
   "execution_count": null,
   "metadata": {},
   "outputs": [],
   "source": [
    "# 티커정보 가져오기\n",
    "try:\n",
    "    account = await bot.update_account()\n",
    "    pprint(account)\n",
    "finally:\n",
    "    await bot.close()"
   ]
  },
  {
   "cell_type": "code",
   "execution_count": null,
   "metadata": {},
   "outputs": [],
   "source": [
    "try:\n",
    "    data = await bot.futures_historical_klines(\n",
    "        symbol=\"BTCUSDT\",\n",
    "        interval='1d',\n",
    "        start_str='2021-11-24',\n",
    "        end_str=\"2021-11-26\"\n",
    "    )\n",
    "    print(data)\n",
    "finally:\n",
    "    await bot.close()"
   ]
  },
  {
   "cell_type": "code",
   "execution_count": 6,
   "metadata": {},
   "outputs": [
    {
     "name": "stdout",
     "output_type": "stream",
     "text": [
      "[{'current_price': 0.671,\n",
      "  'highest_80': 1.338,\n",
      "  'lowest_80': 0.276,\n",
      "  'position_percentage': 37.1939736346516,\n",
      "  'rsi': 38.363830678573045,\n",
      "  'symbol': 'CRVUSDT'},\n",
      " {'current_price': 0.1446,\n",
      "  'highest_80': 0.3765,\n",
      "  'lowest_80': 0.1407,\n",
      "  'position_percentage': 1.65394402035624,\n",
      "  'rsi': 30.942891197178938,\n",
      "  'symbol': 'CHRUSDT'},\n",
      " {'current_price': 1.316,\n",
      "  'highest_80': 7.586,\n",
      "  'lowest_80': 0.95,\n",
      "  'position_percentage': 5.515370705244124,\n",
      "  'rsi': 28.51170269985495,\n",
      "  'symbol': 'RUNEUSDT'},\n",
      " {'current_price': 13.881,\n",
      "  'highest_80': 28.988,\n",
      "  'lowest_80': 12.28,\n",
      "  'position_percentage': 9.582236054584637,\n",
      "  'rsi': 43.06519664733937,\n",
      "  'symbol': 'ARUSDT'},\n",
      " {'current_price': 0.632,\n",
      "  'highest_80': 2.7489,\n",
      "  'lowest_80': 0.5762,\n",
      "  'position_percentage': 2.568233074055321,\n",
      "  'rsi': 38.221719558627385,\n",
      "  'symbol': 'FARTCOINUSDT'}]\n"
     ]
    }
   ],
   "source": [
    "\n",
    "new_tickers_info = []\n",
    "symbol_list = [\"CRVUSDT\",\"CHRUSDT\",\"RUNEUSDT\",\"ARUSDT\",\"FARTCOINUSDT\"]\n",
    "for symbol in symbol_list:\n",
    "    # 200개 봉 데이터 가져오기\n",
    "    klines = await client.futures_klines(symbol=symbol, interval=\"1d\", limit=200)\n",
    "    df = pd.DataFrame(klines, columns=[\n",
    "        \"timestamp\", \"open\", \"high\", \"low\", \"close\", \"volume\", \"close_time\",\n",
    "        \"quote_asset_volume\", \"trades\", \"taker_base_volume\", \"taker_quote_volume\", \"ignore\"\n",
    "    ])\n",
    "    df[\"close\"] = df[\"close\"].astype(float)\n",
    "    df[\"high\"] = df[\"high\"].astype(float)\n",
    "    df[\"low\"] = df[\"low\"].astype(float)\n",
    "\n",
    "    # 현재가 가져오기\n",
    "    current_price = df[\"close\"].iloc[-1]\n",
    "\n",
    "    # RSI 계산 (14개 기간 기준)\n",
    "    df[\"rsi\"] = ta.rsi(df[\"close\"], length=14)\n",
    "    latest_rsi = df[\"rsi\"].iloc[-1]\n",
    "\n",
    "    # 최근 80개 봉 최고가/최저가 계산\n",
    "    highest_80 = df[\"high\"].iloc[-80:].max()\n",
    "    lowest_80 = df[\"low\"].iloc[-80:].min()\n",
    "\n",
    "    # 현재가가 최고/최저가 대비 위치 (%)\n",
    "    position_percentage = (current_price - lowest_80) / (highest_80 - lowest_80) * 100\n",
    "\n",
    "    # 데이터 저장\n",
    "    new_tickers_info.append({\n",
    "        \"symbol\": symbol,\n",
    "        \"current_price\": current_price,\n",
    "        \"rsi\": latest_rsi,\n",
    "        \"highest_80\": highest_80,\n",
    "        \"lowest_80\": lowest_80,\n",
    "        \"position_percentage\": position_percentage\n",
    "    })\n",
    "\n",
    "# 업데이트된 티커 정보 반영\n",
    "pprint(new_tickers_info)"
   ]
  }
 ],
 "metadata": {
  "kernelspec": {
   "display_name": ".venv",
   "language": "python",
   "name": "python3"
  },
  "language_info": {
   "codemirror_mode": {
    "name": "ipython",
    "version": 3
   },
   "file_extension": ".py",
   "mimetype": "text/x-python",
   "name": "python",
   "nbconvert_exporter": "python",
   "pygments_lexer": "ipython3",
   "version": "3.11.3"
  }
 },
 "nbformat": 4,
 "nbformat_minor": 2
}
