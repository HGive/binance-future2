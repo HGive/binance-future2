{
 "cells": [
  {
   "cell_type": "code",
   "execution_count": 3,
   "metadata": {},
   "outputs": [
    {
     "name": "stderr",
     "output_type": "stream",
     "text": [
      "/Users/gimhyeongjun/Desktop/programs/DevProjects/binance-future2/.venv/lib/python3.12/site-packages/pandas_ta/utils/_core.py:14: SyntaxWarning: invalid escape sequence '\\g'\n",
      "  return re_.sub(\"([a-z])([A-Z])\",\"\\g<1> \\g<2>\", x).title()\n"
     ]
    }
   ],
   "source": [
    "from binance_bot_class  import BinanceBot\n",
    "from pprint import pprint\n",
    "from binance.async_client import AsyncClient\n",
    "from dotenv import load_dotenv\n",
    "import numpy\n",
    "import pandas as pd\n",
    "import pandas_ta as ta\n",
    "import os\n",
    "\n",
    "load_dotenv()\n",
    "API_KEY = os.getenv(\"BINANCE_API_KEY\")\n",
    "API_SECRET = os.getenv(\"BINANCE_API_SECRET\")\n",
    "\n",
    "bot = BinanceBot()\n",
    "await bot.initialize_client()\n",
    "\n",
    "client = await AsyncClient.create(API_KEY, API_SECRET)\n"
   ]
  },
  {
   "cell_type": "code",
   "execution_count": 4,
   "metadata": {},
   "outputs": [
    {
     "name": "stderr",
     "output_type": "stream",
     "text": [
      "Unclosed client session\n",
      "client_session: <aiohttp.client.ClientSession object at 0x10b81eb70>\n",
      "Unclosed connector\n",
      "connections: ['deque([(<aiohttp.client_proto.ResponseHandler object at 0x11fabe1b0>, 12223.27720525)])']\n",
      "connector: <aiohttp.connector.TCPConnector object at 0x10b81eab0>\n"
     ]
    },
    {
     "ename": "BinanceAPIException",
     "evalue": "APIError(code=-2015): Invalid API-key, IP, or permissions for action.",
     "output_type": "error",
     "traceback": [
      "\u001b[31m---------------------------------------------------------------------------\u001b[39m",
      "\u001b[31mBinanceAPIException\u001b[39m                       Traceback (most recent call last)",
      "\u001b[36mCell\u001b[39m\u001b[36m \u001b[39m\u001b[32mIn[4]\u001b[39m\u001b[32m, line 4\u001b[39m\n\u001b[32m      2\u001b[39m \u001b[38;5;28;01mtry\u001b[39;00m:\n\u001b[32m      3\u001b[39m     client = \u001b[38;5;28;01mawait\u001b[39;00m AsyncClient.create(API_KEY, API_SECRET)\n\u001b[32m----> \u001b[39m\u001b[32m4\u001b[39m     balance = \u001b[38;5;28;01mawait\u001b[39;00m client.get_asset_balance(asset=\u001b[33m'\u001b[39m\u001b[33mUSDT\u001b[39m\u001b[33m'\u001b[39m)\n\u001b[32m      5\u001b[39m     pprint(balance)\n\u001b[32m      6\u001b[39m \u001b[38;5;28;01mfinally\u001b[39;00m:\n",
      "\u001b[36mFile \u001b[39m\u001b[32m~/Desktop/programs/DevProjects/binance-future2/.venv/lib/python3.12/site-packages/binance/async_client.py:767\u001b[39m, in \u001b[36mAsyncClient.get_asset_balance\u001b[39m\u001b[34m(self, asset, **params)\u001b[39m\n\u001b[32m    766\u001b[39m \u001b[38;5;28;01masync\u001b[39;00m \u001b[38;5;28;01mdef\u001b[39;00m\u001b[38;5;250m \u001b[39m\u001b[34mget_asset_balance\u001b[39m(\u001b[38;5;28mself\u001b[39m, asset=\u001b[38;5;28;01mNone\u001b[39;00m, **params):\n\u001b[32m--> \u001b[39m\u001b[32m767\u001b[39m     res = \u001b[38;5;28;01mawait\u001b[39;00m \u001b[38;5;28mself\u001b[39m.get_account(**params)\n\u001b[32m    768\u001b[39m     \u001b[38;5;66;03m# find asset balance in list of balances\u001b[39;00m\n\u001b[32m    769\u001b[39m     \u001b[38;5;28;01mif\u001b[39;00m \u001b[33m\"\u001b[39m\u001b[33mbalances\u001b[39m\u001b[33m\"\u001b[39m \u001b[38;5;129;01min\u001b[39;00m res:\n",
      "\u001b[36mFile \u001b[39m\u001b[32m~/Desktop/programs/DevProjects/binance-future2/.venv/lib/python3.12/site-packages/binance/async_client.py:762\u001b[39m, in \u001b[36mAsyncClient.get_account\u001b[39m\u001b[34m(self, **params)\u001b[39m\n\u001b[32m    761\u001b[39m \u001b[38;5;28;01masync\u001b[39;00m \u001b[38;5;28;01mdef\u001b[39;00m\u001b[38;5;250m \u001b[39m\u001b[34mget_account\u001b[39m(\u001b[38;5;28mself\u001b[39m, **params):\n\u001b[32m--> \u001b[39m\u001b[32m762\u001b[39m     \u001b[38;5;28;01mreturn\u001b[39;00m \u001b[38;5;28;01mawait\u001b[39;00m \u001b[38;5;28mself\u001b[39m._get(\u001b[33m\"\u001b[39m\u001b[33maccount\u001b[39m\u001b[33m\"\u001b[39m, \u001b[38;5;28;01mTrue\u001b[39;00m, data=params)\n",
      "\u001b[36mFile \u001b[39m\u001b[32m~/Desktop/programs/DevProjects/binance-future2/.venv/lib/python3.12/site-packages/binance/async_client.py:245\u001b[39m, in \u001b[36mAsyncClient._get\u001b[39m\u001b[34m(self, path, signed, version, **kwargs)\u001b[39m\n\u001b[32m    242\u001b[39m \u001b[38;5;28;01masync\u001b[39;00m \u001b[38;5;28;01mdef\u001b[39;00m\u001b[38;5;250m \u001b[39m\u001b[34m_get\u001b[39m(\n\u001b[32m    243\u001b[39m     \u001b[38;5;28mself\u001b[39m, path, signed=\u001b[38;5;28;01mFalse\u001b[39;00m, version=BaseClient.PUBLIC_API_VERSION, **kwargs\n\u001b[32m    244\u001b[39m ):\n\u001b[32m--> \u001b[39m\u001b[32m245\u001b[39m     \u001b[38;5;28;01mreturn\u001b[39;00m \u001b[38;5;28;01mawait\u001b[39;00m \u001b[38;5;28mself\u001b[39m._request_api(\u001b[33m\"\u001b[39m\u001b[33mget\u001b[39m\u001b[33m\"\u001b[39m, path, signed, version, **kwargs)\n",
      "\u001b[36mFile \u001b[39m\u001b[32m~/Desktop/programs/DevProjects/binance-future2/.venv/lib/python3.12/site-packages/binance/async_client.py:180\u001b[39m, in \u001b[36mAsyncClient._request_api\u001b[39m\u001b[34m(self, method, path, signed, version, **kwargs)\u001b[39m\n\u001b[32m    178\u001b[39m uri = \u001b[38;5;28mself\u001b[39m._create_api_uri(path, signed, version)\n\u001b[32m    179\u001b[39m force_params = kwargs.pop(\u001b[33m\"\u001b[39m\u001b[33mforce_params\u001b[39m\u001b[33m\"\u001b[39m, \u001b[38;5;28;01mFalse\u001b[39;00m)\n\u001b[32m--> \u001b[39m\u001b[32m180\u001b[39m \u001b[38;5;28;01mreturn\u001b[39;00m \u001b[38;5;28;01mawait\u001b[39;00m \u001b[38;5;28mself\u001b[39m._request(method, uri, signed, force_params, **kwargs)\n",
      "\u001b[36mFile \u001b[39m\u001b[32m~/Desktop/programs/DevProjects/binance-future2/.venv/lib/python3.12/site-packages/binance/async_client.py:155\u001b[39m, in \u001b[36mAsyncClient._request\u001b[39m\u001b[34m(self, method, uri, signed, force_params, **kwargs)\u001b[39m\n\u001b[32m    147\u001b[39m \u001b[38;5;28;01masync\u001b[39;00m \u001b[38;5;28;01mwith\u001b[39;00m \u001b[38;5;28mgetattr\u001b[39m(\u001b[38;5;28mself\u001b[39m.session, method)(\n\u001b[32m    148\u001b[39m     yarl.URL(uri, encoded=\u001b[38;5;28;01mTrue\u001b[39;00m),\n\u001b[32m    149\u001b[39m     proxy=\u001b[38;5;28mself\u001b[39m.https_proxy,\n\u001b[32m   (...)\u001b[39m\u001b[32m    152\u001b[39m     **kwargs,\n\u001b[32m    153\u001b[39m ) \u001b[38;5;28;01mas\u001b[39;00m response:\n\u001b[32m    154\u001b[39m     \u001b[38;5;28mself\u001b[39m.response = response\n\u001b[32m--> \u001b[39m\u001b[32m155\u001b[39m     \u001b[38;5;28;01mreturn\u001b[39;00m \u001b[38;5;28;01mawait\u001b[39;00m \u001b[38;5;28mself\u001b[39m._handle_response(response)\n",
      "\u001b[36mFile \u001b[39m\u001b[32m~/Desktop/programs/DevProjects/binance-future2/.venv/lib/python3.12/site-packages/binance/async_client.py:163\u001b[39m, in \u001b[36mAsyncClient._handle_response\u001b[39m\u001b[34m(self, response)\u001b[39m\n\u001b[32m    158\u001b[39m \u001b[38;5;250m\u001b[39m\u001b[33;03m\"\"\"Internal helper for handling API responses from the Binance server.\u001b[39;00m\n\u001b[32m    159\u001b[39m \u001b[33;03mRaises the appropriate exceptions when necessary; otherwise, returns the\u001b[39;00m\n\u001b[32m    160\u001b[39m \u001b[33;03mresponse.\u001b[39;00m\n\u001b[32m    161\u001b[39m \u001b[33;03m\"\"\"\u001b[39;00m\n\u001b[32m    162\u001b[39m \u001b[38;5;28;01mif\u001b[39;00m \u001b[38;5;129;01mnot\u001b[39;00m \u001b[38;5;28mstr\u001b[39m(response.status).startswith(\u001b[33m\"\u001b[39m\u001b[33m2\u001b[39m\u001b[33m\"\u001b[39m):\n\u001b[32m--> \u001b[39m\u001b[32m163\u001b[39m     \u001b[38;5;28;01mraise\u001b[39;00m BinanceAPIException(response, response.status, \u001b[38;5;28;01mawait\u001b[39;00m response.text())\n\u001b[32m    164\u001b[39m \u001b[38;5;28;01mtry\u001b[39;00m:\n\u001b[32m    165\u001b[39m     \u001b[38;5;28;01mreturn\u001b[39;00m \u001b[38;5;28;01mawait\u001b[39;00m response.json()\n",
      "\u001b[31mBinanceAPIException\u001b[39m: APIError(code=-2015): Invalid API-key, IP, or permissions for action."
     ]
    }
   ],
   "source": [
    "# 티커정보 가져오기\n",
    "try:\n",
    "    client = await AsyncClient.create(API_KEY, API_SECRET)\n",
    "    balance = await client.get_asset_balance(asset='USDT')\n",
    "    pprint(balance)\n",
    "finally:\n",
    "    await client.close_connection()"
   ]
  },
  {
   "cell_type": "code",
   "execution_count": 10,
   "metadata": {},
   "outputs": [],
   "source": [
    "try:\n",
    "    # 모든 포지션 정보 가져오기\n",
    "    positions = await client.futures_position_information()\n",
    "    \n",
    "    # 보유 포지션만 필터링\n",
    "    active_positions = [p for p in positions if float(p['positionAmt']) != 0]\n",
    "    \n",
    "    # 출력\n",
    "    for pos in active_positions:\n",
    "        print(f\"Symbol: {pos['symbol']}\")\n",
    "        print(f\"Position Amount: {pos['positionAmt']}\")  # 포지션 크기\n",
    "        print(f\"Entry Price: {pos['entryPrice']}\")       # 진입 가격\n",
    "        print(f\"Unrealized Profit: {pos['unRealizedProfit']}\")  # 미실현 손익\n",
    "        print(f\"Margin Type: {pos['marginType']}\")       # 마진 타입 (Isolated/ Cross)\n",
    "        print(f\"Leverage: {pos['leverage']}\")           # 레버리지\n",
    "        print(\"-\" * 30)\n",
    "\n",
    "except Exception as e:\n",
    "    print(f\"Error fetching positions: {e}\")\n",
    "finally:\n",
    "    await client.close_connection()"
   ]
  },
  {
   "cell_type": "code",
   "execution_count": null,
   "metadata": {},
   "outputs": [],
   "source": [
    "positions = await client.futures_position_information()\n",
    "print(positions)"
   ]
  },
  {
   "cell_type": "code",
   "execution_count": null,
   "metadata": {},
   "outputs": [],
   "source": [
    "# 티커정보 가져오기\n",
    "try:\n",
    "    info = await bot.ticker_info(symbol=\"CRVUSDT\")\n",
    "    pprint(info)\n",
    "finally:\n",
    "    await bot.close()"
   ]
  },
  {
   "cell_type": "code",
   "execution_count": null,
   "metadata": {},
   "outputs": [],
   "source": [
    "# 티커정보 가져오기\n",
    "try:\n",
    "    account = await bot.update_account()\n",
    "    pprint(account)\n",
    "finally:\n",
    "    await bot.close()"
   ]
  },
  {
   "cell_type": "code",
   "execution_count": null,
   "metadata": {},
   "outputs": [],
   "source": [
    "try:\n",
    "    data = await bot.futures_historical_klines(\n",
    "        symbol=\"BTCUSDT\",\n",
    "        interval='1d',\n",
    "        start_str='2021-11-24',\n",
    "        end_str=\"2021-11-26\"\n",
    "    )\n",
    "    print(data)\n",
    "finally:\n",
    "    await bot.close()"
   ]
  },
  {
   "cell_type": "code",
   "execution_count": 6,
   "metadata": {},
   "outputs": [
    {
     "name": "stdout",
     "output_type": "stream",
     "text": [
      "[{'current_price': 0.671,\n",
      "  'highest_80': 1.338,\n",
      "  'lowest_80': 0.276,\n",
      "  'position_percentage': 37.1939736346516,\n",
      "  'rsi': 38.363830678573045,\n",
      "  'symbol': 'CRVUSDT'},\n",
      " {'current_price': 0.1446,\n",
      "  'highest_80': 0.3765,\n",
      "  'lowest_80': 0.1407,\n",
      "  'position_percentage': 1.65394402035624,\n",
      "  'rsi': 30.942891197178938,\n",
      "  'symbol': 'CHRUSDT'},\n",
      " {'current_price': 1.316,\n",
      "  'highest_80': 7.586,\n",
      "  'lowest_80': 0.95,\n",
      "  'position_percentage': 5.515370705244124,\n",
      "  'rsi': 28.51170269985495,\n",
      "  'symbol': 'RUNEUSDT'},\n",
      " {'current_price': 13.881,\n",
      "  'highest_80': 28.988,\n",
      "  'lowest_80': 12.28,\n",
      "  'position_percentage': 9.582236054584637,\n",
      "  'rsi': 43.06519664733937,\n",
      "  'symbol': 'ARUSDT'},\n",
      " {'current_price': 0.632,\n",
      "  'highest_80': 2.7489,\n",
      "  'lowest_80': 0.5762,\n",
      "  'position_percentage': 2.568233074055321,\n",
      "  'rsi': 38.221719558627385,\n",
      "  'symbol': 'FARTCOINUSDT'}]\n"
     ]
    }
   ],
   "source": [
    "\n",
    "new_tickers_info = []\n",
    "symbol_list = [\"CRVUSDT\",\"CHRUSDT\",\"RUNEUSDT\",\"ARUSDT\",\"FARTCOINUSDT\"]\n",
    "for symbol in symbol_list:\n",
    "    # 200개 봉 데이터 가져오기\n",
    "    klines = await client.futures_klines(symbol=symbol, interval=\"1d\", limit=200)\n",
    "    df = pd.DataFrame(klines, columns=[\n",
    "        \"timestamp\", \"open\", \"high\", \"low\", \"close\", \"volume\", \"close_time\",\n",
    "        \"quote_asset_volume\", \"trades\", \"taker_base_volume\", \"taker_quote_volume\", \"ignore\"\n",
    "    ])\n",
    "    df[\"close\"] = df[\"close\"].astype(float)\n",
    "    df[\"high\"] = df[\"high\"].astype(float)\n",
    "    df[\"low\"] = df[\"low\"].astype(float)\n",
    "\n",
    "    # 현재가 가져오기\n",
    "    current_price = df[\"close\"].iloc[-1]\n",
    "\n",
    "    # RSI 계산 (14개 기간 기준)\n",
    "    df[\"rsi\"] = ta.rsi(df[\"close\"], length=14)\n",
    "    latest_rsi = df[\"rsi\"].iloc[-1]\n",
    "\n",
    "    # 최근 80개 봉 최고가/최저가 계산\n",
    "    highest_80 = df[\"high\"].iloc[-80:].max()\n",
    "    lowest_80 = df[\"low\"].iloc[-80:].min()\n",
    "\n",
    "    # 현재가가 최고/최저가 대비 위치 (%)\n",
    "    position_percentage = (current_price - lowest_80) / (highest_80 - lowest_80) * 100\n",
    "\n",
    "    # 데이터 저장\n",
    "    new_tickers_info.append({\n",
    "        \"symbol\": symbol,\n",
    "        \"current_price\": current_price,\n",
    "        \"rsi\": latest_rsi,\n",
    "        \"highest_80\": highest_80,\n",
    "        \"lowest_80\": lowest_80,\n",
    "        \"position_percentage\": position_percentage\n",
    "    })\n",
    "\n",
    "# 업데이트된 티커 정보 반영\n",
    "pprint(new_tickers_info)"
   ]
  }
 ],
 "metadata": {
  "kernelspec": {
   "display_name": ".venv",
   "language": "python",
   "name": "python3"
  },
  "language_info": {
   "codemirror_mode": {
    "name": "ipython",
    "version": 3
   },
   "file_extension": ".py",
   "mimetype": "text/x-python",
   "name": "python",
   "nbconvert_exporter": "python",
   "pygments_lexer": "ipython3",
   "version": "3.12.2"
  }
 },
 "nbformat": 4,
 "nbformat_minor": 2
}
