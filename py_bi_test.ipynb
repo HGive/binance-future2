{
 "cells": [
  {
   "cell_type": "code",
   "execution_count": null,
   "metadata": {},
   "outputs": [],
   "source": [
    "import pandas as pd\n",
    "from binance.client import Client\n",
    "from dotenv import load_dotenv\n",
    "import os\n",
    "\n",
    "load_dotenv()\n",
    "\n",
    "client = Client(os.getenv(\"BINANCE_API_KEY\"), os.getenv(\"BINANCE_API_SECRET\"))\n",
    "\n",
    "klines = client.get_klines(symbol='BTCUSDT', interval=Client.KLINE_INTERVAL_1HOUR, limit=100)\n",
    "\n",
    "# 리스트를 DataFrame으로 변환\n",
    "df = pd.DataFrame(klines, columns=[\n",
    "    \"open_time\", \"open\", \"high\", \"low\", \"close\", \"volume\",\n",
    "    \"close_time\", \"quote_asset_volume\", \"num_trades\",\n",
    "    \"taker_buy_base_vol\", \"taker_buy_quote_vol\", \"ignore\"\n",
    "])\n",
    "\n",
    "# 시간 변환\n",
    "df[\"open_time\"] = pd.to_datetime(df[\"open_time\"], unit='ms')\n",
    "df.set_index(\"open_time\", inplace=True)\n",
    "\n",
    "# 문자열 숫자들을 float로 변환\n",
    "for col in [\"open\", \"high\", \"low\", \"close\", \"volume\"]:\n",
    "    df[col] = df[col].astype(float)\n",
    "\n",
    "df[\"row_num\"] = range(1, len(df) + 1)\n",
    "\n",
    "print(df[[\"row_num\",\"open\", \"high\", \"low\", \"close\", \"volume\"]])\n"
   ]
  }
 ],
 "metadata": {
  "kernelspec": {
   "display_name": ".venv",
   "language": "python",
   "name": "python3"
  },
  "language_info": {
   "codemirror_mode": {
    "name": "ipython",
    "version": 3
   },
   "file_extension": ".py",
   "mimetype": "text/x-python",
   "name": "python",
   "nbconvert_exporter": "python",
   "pygments_lexer": "ipython3",
   "version": "3.11.0"
  }
 },
 "nbformat": 4,
 "nbformat_minor": 2
}
